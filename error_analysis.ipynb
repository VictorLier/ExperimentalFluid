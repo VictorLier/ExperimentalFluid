{
 "cells": [
  {
   "cell_type": "markdown",
   "metadata": {},
   "source": [
    "**Manual calculation with sympy:**"
   ]
  },
  {
   "cell_type": "markdown",
   "metadata": {},
   "source": [
    "Defining variables"
   ]
  },
  {
   "cell_type": "code",
   "execution_count": 22,
   "metadata": {},
   "outputs": [],
   "source": [
    "import sympy as sp\n",
    "import numpy as np\n",
    "\n",
    "val_h1 = 4.95 * 10**(-2)\n",
    "val_h2 = 10.60 * 10**(-2)\n",
    "val_dh = 0.05 * 10**(-2)\n",
    "\n",
    "val_T = 24.5 + 273.15\n",
    "val_dt = 0.1\n",
    "\n",
    "val_Ps = 995.2 * 10**2\n",
    "\n",
    "g = 9.8154\n",
    "R = 287.052874\n",
    "rho_w = 997.2"
   ]
  },
  {
   "cell_type": "markdown",
   "metadata": {},
   "source": [
    "Writing equations and applying error propagation"
   ]
  },
  {
   "cell_type": "code",
   "execution_count": 23,
   "metadata": {},
   "outputs": [
    {
     "name": "stdout",
     "output_type": "stream",
     "text": [
      "U = 30.7970615579178 +- 0.192784730733251\n"
     ]
    }
   ],
   "source": [
    "h1, h2, dh, T, dT, Ps, Pt = sp.symbols('h1, h2, dh, T, dT, Ps, Pt')\n",
    "rho_a = Ps/(R*T)\n",
    "P_diff = (rho_w - rho_a) * g * (h2-h1)\n",
    "U = sp.sqrt(2*P_diff / rho_a )\n",
    "\n",
    "sub = {h1:val_h1, h2:val_h2, T:val_T, dT:val_dt, Ps:val_Ps, dh:val_dh}\n",
    "\n",
    "\n",
    "dU = sp.sqrt( (U.diff(h1)*dh)**2 +( U.diff(h2)*dh)**2  + ( U.diff(T)*dT)**2 )\n",
    "# \n",
    "print(f\"U = {U.subs(sub)} +- {dU.subs(sub)}\")\n"
   ]
  },
  {
   "cell_type": "markdown",
   "metadata": {},
   "source": [
    "**Automatic calculation using ufloats**"
   ]
  },
  {
   "cell_type": "markdown",
   "metadata": {},
   "source": [
    "Defining variables"
   ]
  },
  {
   "cell_type": "code",
   "execution_count": 24,
   "metadata": {},
   "outputs": [],
   "source": [
    "from uncertainties import ufloat, unumpy\n",
    "\n",
    "# Define your variables with uncertainties\n",
    "h1 = ufloat(4.95 * 10**(-2),  0.05 * 10**(-2))\n",
    "h2 = ufloat(10.60 * 10**(-2),  0.05 * 10**(-2))\n",
    "T = ufloat(24.5 + 273.15, 0.1)\n",
    "Ps = ufloat(995.2 * 10**2, 0.1)\n",
    "R = ufloat(287.052874, 0.1)\n",
    "g = ufloat(9.82, 0.1)\n",
    "rho_w = ufloat(997.2, 0.1)\n"
   ]
  },
  {
   "cell_type": "markdown",
   "metadata": {},
   "source": [
    "Calculating expression:"
   ]
  },
  {
   "cell_type": "code",
   "execution_count": 25,
   "metadata": {},
   "outputs": [
    {
     "name": "stdout",
     "output_type": "stream",
     "text": [
      "U = 30.80+/-0.25\n"
     ]
    }
   ],
   "source": [
    "# Define the function\n",
    "rho_a = Ps/(R*T)\n",
    "P_diff = (rho_w - rho_a) * g * (h2-h1)\n",
    "U = unumpy.sqrt(2*P_diff / rho_a )\n",
    "\n",
    "# Calculate the uncertainty using error propagation\n",
    "sigma_U = unumpy.std_devs(U)\n",
    "\n",
    "print(f\"U = {U}\")\n"
   ]
  }
 ],
 "metadata": {
  "kernelspec": {
   "display_name": "Python 3",
   "language": "python",
   "name": "python3"
  },
  "language_info": {
   "codemirror_mode": {
    "name": "ipython",
    "version": 3
   },
   "file_extension": ".py",
   "mimetype": "text/x-python",
   "name": "python",
   "nbconvert_exporter": "python",
   "pygments_lexer": "ipython3",
   "version": "3.11.4"
  }
 },
 "nbformat": 4,
 "nbformat_minor": 2
}
