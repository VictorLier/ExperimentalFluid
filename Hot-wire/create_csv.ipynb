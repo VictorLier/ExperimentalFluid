{
 "cells": [
  {
   "cell_type": "code",
   "execution_count": 4,
   "metadata": {},
   "outputs": [
    {
     "name": "stdout",
     "output_type": "stream",
     "text": [
      "[0.482 0.732 0.913 1.123]\n",
      "[0.532 0.959 1.363 1.983]\n"
     ]
    }
   ],
   "source": [
    "import pandas as pd\n",
    "import numpy as np\n",
    "import os\n",
    "\n",
    "dP = np.array([])\n",
    "V = np.array([])\n",
    "\n",
    "folder_path = \"Measurement\\Data\\Calibration1\"\n",
    "csv_files = [file for file in os.listdir(folder_path) if file.endswith(\".csv\")]\n",
    "\n",
    "for file in csv_files:\n",
    "    file_path = os.path.join(folder_path, file)\n",
    "    df = pd.read_csv(file_path, sep=',')\n",
    "    #df = pd.read_csv(file_path, sep=';')\n",
    "    #df = df.replace(',', '.', regex=True)\n",
    "    \n",
    "    V = np.append(V,  round(np.mean(df.iloc[1:, 1].astype(float)),3))  # Get the second column\n",
    "\n",
    "    p_val = ''\n",
    "    for i in range(len(file)):\n",
    "        if file[i] == '=':\n",
    "            while file[i+1] != '.':\n",
    "                if (file[i+1]==','):\n",
    "                    p_val += '.'\n",
    "                else:\n",
    "                    p_val += file[i+1]\n",
    "                i += 1\n",
    "    dP = np.append(dP, float(p_val))\n",
    "\n",
    "print(V)\n",
    "\n",
    "R = 287.052874\n",
    "T = 22.3 + 273.15\n",
    "Ps = 1032.63 * 10**2\n",
    "\n",
    "d1 = 100\n",
    "d2 = 47.33\n",
    "rho_a = Ps/(R*T)\n",
    "U = np.round( np.sqrt(2*(-dP) / rho_a  * 1/((d2/d1)**4-1) ),3)\n",
    "\n",
    "print(U)\n",
    "\n",
    "\n",
    "# Write V and U to a CSV file\n",
    "data = {'Voltage': V, 'Velocity': U, 'Pressure': dP}\n",
    "df = pd.DataFrame(data)\n",
    "df.to_csv('calibration_data.csv', index=False)\n"
   ]
  }
 ],
 "metadata": {
  "kernelspec": {
   "display_name": "base",
   "language": "python",
   "name": "python3"
  },
  "language_info": {
   "codemirror_mode": {
    "name": "ipython",
    "version": 3
   },
   "file_extension": ".py",
   "mimetype": "text/x-python",
   "name": "python",
   "nbconvert_exporter": "python",
   "pygments_lexer": "ipython3",
   "version": "3.10.9"
  }
 },
 "nbformat": 4,
 "nbformat_minor": 2
}
