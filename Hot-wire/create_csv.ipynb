{
 "cells": [
  {
   "cell_type": "code",
   "execution_count": 7,
   "metadata": {},
   "outputs": [
    {
     "name": "stdout",
     "output_type": "stream",
     "text": [
      "[0.891 1.188 1.406 1.629 1.906 2.472 3.263 3.935 4.372 4.632]\n",
      "[ 0.741  1.198  1.662  2.198  3.005  5.306 10.212 16.512 21.823 25.732]\n"
     ]
    }
   ],
   "source": [
    "import pandas as pd\n",
    "import numpy as np\n",
    "import os\n",
    "\n",
    "dP = np.array([])\n",
    "V = np.array([])\n",
    "\n",
    "folder_path = \"test_data\"\n",
    "csv_files = [file for file in os.listdir(folder_path) if file.endswith(\".csv\")]\n",
    "\n",
    "for file in csv_files:\n",
    "    file_path = os.path.join(folder_path, file)\n",
    "    pd.read_csv(file_path, sep=',')\n",
    "    #df = pd.read_csv(file_path, sep=';')\n",
    "    #df = df.replace(',', '.', regex=True)\n",
    "    \n",
    "    V = np.append(V,  round(np.mean(df.iloc[1:, 1].astype(float)),3))  # Get the second column\n",
    "\n",
    "    p_val = ''\n",
    "    for i in range(len(file)):\n",
    "        if file[i] == '=':\n",
    "            while file[i+1] != '.':\n",
    "                if (file[i+1]==','):\n",
    "                    p_val += '.'\n",
    "                else:\n",
    "                    p_val += file[i+1]\n",
    "                i += 1\n",
    "    dP = np.append(dP, float(p_val))\n",
    "\n",
    "print(V)\n",
    "\n",
    "R = 287.052874\n",
    "T = 24.5 + 273.15\n",
    "Ps = 995.2 * 10**2\n",
    "\n",
    "d1 = 240\n",
    "d2 = 100\n",
    "rho_a = Ps/(R*T)\n",
    "U = np.round( np.sqrt(2*(-dP) / rho_a  * 1/((d2/d1)**4-1) ),3)\n",
    "\n",
    "print(U)\n",
    "\n",
    "\n",
    "# Write V and U to a CSV file\n",
    "data = {'Voltage': V, 'Velocity': U}\n",
    "df = pd.DataFrame(data)\n",
    "df.to_csv('calibration_data.csv', index=False)\n"
   ]
  }
 ],
 "metadata": {
  "kernelspec": {
   "display_name": "base",
   "language": "python",
   "name": "python3"
  },
  "language_info": {
   "codemirror_mode": {
    "name": "ipython",
    "version": 3
   },
   "file_extension": ".py",
   "mimetype": "text/x-python",
   "name": "python",
   "nbconvert_exporter": "python",
   "pygments_lexer": "ipython3",
   "version": "3.10.9"
  }
 },
 "nbformat": 4,
 "nbformat_minor": 2
}
