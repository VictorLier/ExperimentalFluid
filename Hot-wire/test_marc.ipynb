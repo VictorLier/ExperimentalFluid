{
 "cells": [
  {
   "cell_type": "code",
   "execution_count": 4,
   "metadata": {},
   "outputs": [
    {
     "name": "stdout",
     "output_type": "stream",
     "text": [
      "10.154\n"
     ]
    }
   ],
   "source": [
    "import numpy as np\n",
    "d1 = 240\n",
    "d2 = 100\n",
    "rho_a = 1.2\n",
    "U = np.round( np.sqrt(2*(-60) / rho_a  * 1/((d2/d1)**4-1) ),3)\n",
    "\n",
    "print(U)"
   ]
  }
 ],
 "metadata": {
  "kernelspec": {
   "display_name": "base",
   "language": "python",
   "name": "python3"
  },
  "language_info": {
   "codemirror_mode": {
    "name": "ipython",
    "version": 3
   },
   "file_extension": ".py",
   "mimetype": "text/x-python",
   "name": "python",
   "nbconvert_exporter": "python",
   "pygments_lexer": "ipython3",
   "version": "3.10.9"
  }
 },
 "nbformat": 4,
 "nbformat_minor": 2
}
