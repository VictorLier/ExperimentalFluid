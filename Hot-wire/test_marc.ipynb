{
 "cells": [
  {
   "cell_type": "code",
   "execution_count": 29,
   "metadata": {},
   "outputs": [
    {
     "name": "stdout",
     "output_type": "stream",
     "text": [
      "rho_a = 1.218\n",
      "U = 10.0 m/s\n",
      "dP = -59.044 Pa\n"
     ]
    }
   ],
   "source": [
    "import numpy as np\n",
    "d1 = 240\n",
    "d2 = 100\n",
    "\n",
    "R = 287.052874\n",
    "T = 22.3 + 273.15\n",
    "Ps = 1032.63 * 10**2\n",
    "\n",
    "rho_a = Ps/(R*T)\n",
    "\n",
    "print(f\"rho_a = {round(rho_a,3)}\")\n",
    "\n",
    "dp = 1/2 * 10**2 * rho_a * ((d2/d1)**4-1)\n",
    "\n",
    "U = np.round( np.sqrt(2*(dp) / rho_a  * 1/((d2/d1)**4-1) ),3)\n",
    "\n",
    "print(f\"U = {U} m/s\")\n",
    "print(f\"dP = {round(dp,3)} Pa\")\n",
    "\n",
    "\n"
   ]
  }
 ],
 "metadata": {
  "kernelspec": {
   "display_name": "base",
   "language": "python",
   "name": "python3"
  },
  "language_info": {
   "codemirror_mode": {
    "name": "ipython",
    "version": 3
   },
   "file_extension": ".py",
   "mimetype": "text/x-python",
   "name": "python",
   "nbconvert_exporter": "python",
   "pygments_lexer": "ipython3",
   "version": "3.10.9"
  }
 },
 "nbformat": 4,
 "nbformat_minor": 2
}
